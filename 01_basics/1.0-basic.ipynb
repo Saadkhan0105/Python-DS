{
 "cells": [
  {
   "cell_type": "code",
   "execution_count": 2,
   "id": "6e3e2c37",
   "metadata": {},
   "outputs": [
    {
     "name": "stdout",
     "output_type": "stream",
     "text": [
      "Saad\n",
      "Khan\n"
     ]
    }
   ],
   "source": [
    "## Basic Syntax rules in Python\n",
    "## Case sensitivity - Python is case sensitive\n",
    "\n",
    "name = \"Saad\"\n",
    "Name = \"Khan\"\n",
    "\n",
    "print(name)\n",
    "print(Name)"
   ]
  },
  {
   "cell_type": "markdown",
   "id": "063a3565",
   "metadata": {},
   "source": [
    "## Indentation:\n",
    "Indentation in Python is used to define the structure and hierarchy of the code.\n",
    "Unlike many other programming languages that uses braces {} to delimit the blocks of code, Python uses indentation to determine the grouping of statements.\n",
    "This means that all statements within a block must be indented at the same level.\n",
    "Python uses indentation to define block of code. Consistent use of spaces (commonly 4) or a tab is required"
   ]
  },
  {
   "cell_type": "code",
   "execution_count": 6,
   "id": "5fbb0bf2",
   "metadata": {},
   "outputs": [
    {
     "name": "stdout",
     "output_type": "stream",
     "text": [
      "You are old\n",
      "32\n"
     ]
    }
   ],
   "source": [
    "## Indentation - Python is indentation based\n",
    "## Python uses indentation to define block of code. Consistent use of spaces (commonly 4) or a tab is required\n",
    "\n",
    "age = 32\n",
    "if age > 30:\n",
    "    print(\"You are old\")\n",
    "else:\n",
    "    print(\"You are not old\")\n",
    "\n",
    "print(age)"
   ]
  },
  {
   "cell_type": "code",
   "execution_count": 7,
   "id": "a302b5ff",
   "metadata": {},
   "outputs": [
    {
     "name": "stdout",
     "output_type": "stream",
     "text": [
      "Hello World!\n"
     ]
    }
   ],
   "source": [
    "## This is a single line comment in Python.\n",
    "print(\"Hello World!\") "
   ]
  },
  {
   "cell_type": "code",
   "execution_count": 8,
   "id": "bb301337",
   "metadata": {},
   "outputs": [
    {
     "name": "stdout",
     "output_type": "stream",
     "text": [
      "120\n"
     ]
    }
   ],
   "source": [
    "## Line Continuation\n",
    "# In Python, we can use the backslash (\\) to indicate that a line should continue on the next line. This is useful for long statements or function calls that would otherwise overflow the line length limit. Here's an example:\n",
    "total = 1+2+3+4+5+6+7+\\\n",
    "        8+9+10+11+12+13+14+15\n",
    "\n",
    "print(total)"
   ]
  },
  {
   "cell_type": "code",
   "execution_count": 9,
   "id": "7cac36f2",
   "metadata": {},
   "outputs": [
    {
     "name": "stdout",
     "output_type": "stream",
     "text": [
      "15\n"
     ]
    }
   ],
   "source": [
    "## Multiple statements in a single line\n",
    "x = 5; y = 10; z = x + y; print(z)"
   ]
  },
  {
   "cell_type": "markdown",
   "id": "6d786c5e",
   "metadata": {},
   "source": []
  },
  {
   "cell_type": "code",
   "execution_count": 10,
   "id": "1e42b9a2",
   "metadata": {},
   "outputs": [],
   "source": [
    "## Understanding Semantics in Python\n",
    "# Variable assignment\n",
    "\n",
    "age = 32 ## age is an integer\n",
    "name = \"Saad\" ## name is a string"
   ]
  },
  {
   "cell_type": "code",
   "execution_count": null,
   "id": "dd948f5b",
   "metadata": {},
   "outputs": [
    {
     "data": {
      "text/plain": [
       "int"
      ]
     },
     "execution_count": 11,
     "metadata": {},
     "output_type": "execute_result"
    }
   ],
   "source": [
    "type(age)"
   ]
  },
  {
   "cell_type": "code",
   "execution_count": 12,
   "id": "70ae8d85",
   "metadata": {},
   "outputs": [
    {
     "data": {
      "text/plain": [
       "str"
      ]
     },
     "execution_count": 12,
     "metadata": {},
     "output_type": "execute_result"
    }
   ],
   "source": [
    "type(name)"
   ]
  },
  {
   "cell_type": "code",
   "execution_count": 14,
   "id": "bb3cc73b",
   "metadata": {},
   "outputs": [
    {
     "name": "stdout",
     "output_type": "stream",
     "text": [
      "<class 'int'>\n",
      "<class 'str'>\n"
     ]
    }
   ],
   "source": [
    "## Type Inference in Python\n",
    "variable = 10\n",
    "print(type(variable))\n",
    "variable = \"Saad\"\n",
    "print(type(variable))"
   ]
  },
  {
   "cell_type": "code",
   "execution_count": 16,
   "id": "797789a2",
   "metadata": {},
   "outputs": [
    {
     "name": "stdout",
     "output_type": "stream",
     "text": [
      "32\n"
     ]
    }
   ],
   "source": [
    "\"\"\"\n",
    "age = 32\n",
    "if age > 30:\n",
    "print(age) # IndentationError: expected an indented block after 'if' statement on line 2\n",
    "\"\"\"\n",
    "age = 32\n",
    "if age > 30:\n",
    "    print(age) # This will work fine."
   ]
  },
  {
   "cell_type": "code",
   "execution_count": 17,
   "id": "eedd828a",
   "metadata": {},
   "outputs": [
    {
     "name": "stdout",
     "output_type": "stream",
     "text": [
      "Correct Indentation\n",
      "This will print\n",
      "Outside the if block\n"
     ]
    }
   ],
   "source": [
    "## Code examples of indentation\n",
    "if True:\n",
    "    print(\"Correct Indentation\")\n",
    "    if False:\n",
    "        print(\"This one print\")\n",
    "    print(\"This will print\")\n",
    "print(\"Outside the if block\")"
   ]
  },
  {
   "cell_type": "code",
   "execution_count": null,
   "id": "fed0c47a",
   "metadata": {},
   "outputs": [],
   "source": []
  }
 ],
 "metadata": {
  "kernelspec": {
   "display_name": "venv",
   "language": "python",
   "name": "python3"
  },
  "language_info": {
   "codemirror_mode": {
    "name": "ipython",
    "version": 3
   },
   "file_extension": ".py",
   "mimetype": "text/x-python",
   "name": "python",
   "nbconvert_exporter": "python",
   "pygments_lexer": "ipython3",
   "version": "3.12.0"
  }
 },
 "nbformat": 4,
 "nbformat_minor": 5
}
