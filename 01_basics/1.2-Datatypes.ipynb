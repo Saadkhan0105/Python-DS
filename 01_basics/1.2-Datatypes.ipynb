{
 "cells": [
  {
   "cell_type": "code",
   "execution_count": 4,
   "id": "8b51c0c6",
   "metadata": {},
   "outputs": [
    {
     "name": "stdout",
     "output_type": "stream",
     "text": [
      "35\n",
      "<class 'int'>\n"
     ]
    }
   ],
   "source": [
    "## Integers:\n",
    "age = 35\n",
    "print(age)\n",
    "print(type(age))"
   ]
  },
  {
   "cell_type": "code",
   "execution_count": 5,
   "id": "541e1496",
   "metadata": {},
   "outputs": [
    {
     "name": "stdout",
     "output_type": "stream",
     "text": [
      "5.11\n",
      "<class 'float'>\n"
     ]
    }
   ],
   "source": [
    "## floating point datatype\n",
    "height = 5.11\n",
    "print(height)\n",
    "print(type(height))"
   ]
  },
  {
   "cell_type": "code",
   "execution_count": 6,
   "id": "511130a1",
   "metadata": {},
   "outputs": [
    {
     "name": "stdout",
     "output_type": "stream",
     "text": [
      "Saad\n",
      "<class 'str'>\n"
     ]
    }
   ],
   "source": [
    "## string datatype example\n",
    "name = \"Saad\"\n",
    "print(name)\n",
    "print(type(name))"
   ]
  },
  {
   "cell_type": "code",
   "execution_count": 8,
   "id": "d42e0b92",
   "metadata": {},
   "outputs": [
    {
     "name": "stdout",
     "output_type": "stream",
     "text": [
      "True\n",
      "<class 'bool'>\n"
     ]
    }
   ],
   "source": [
    "## boolean\n",
    "is_true = True\n",
    "print(is_true)\n",
    "print(type(is_true))"
   ]
  },
  {
   "cell_type": "code",
   "execution_count": 10,
   "id": "2fae3847",
   "metadata": {},
   "outputs": [
    {
     "name": "stdout",
     "output_type": "stream",
     "text": [
      "True\n",
      "False\n",
      "False\n",
      "False\n",
      "True\n",
      "True\n"
     ]
    }
   ],
   "source": [
    "a = 10 \n",
    "b = 10\n",
    "\n",
    "print(a == b)\n",
    "print(a != b)\n",
    "print(a > b)\n",
    "print(a < b)\n",
    "print(a >= b)\n",
    "print(a <= b)"
   ]
  },
  {
   "cell_type": "code",
   "execution_count": 11,
   "id": "d22096a9",
   "metadata": {},
   "outputs": [
    {
     "ename": "TypeError",
     "evalue": "can only concatenate str (not \"int\") to str",
     "output_type": "error",
     "traceback": [
      "\u001b[31m---------------------------------------------------------------------------\u001b[39m",
      "\u001b[31mTypeError\u001b[39m                                 Traceback (most recent call last)",
      "\u001b[36mCell\u001b[39m\u001b[36m \u001b[39m\u001b[32mIn[11]\u001b[39m\u001b[32m, line 3\u001b[39m\n\u001b[32m      1\u001b[39m \u001b[38;5;66;03m## Common errors:\u001b[39;00m\n\u001b[32m----> \u001b[39m\u001b[32m3\u001b[39m result = \u001b[33;43m\"\u001b[39;49m\u001b[33;43mHello\u001b[39;49m\u001b[33;43m\"\u001b[39;49m\u001b[43m \u001b[49m\u001b[43m+\u001b[49m\u001b[43m \u001b[49m\u001b[32;43m3\u001b[39;49m\n",
      "\u001b[31mTypeError\u001b[39m: can only concatenate str (not \"int\") to str"
     ]
    }
   ],
   "source": [
    "## Common errors:\n",
    "\n",
    "result = \"Hello\" + 3"
   ]
  },
  {
   "cell_type": "code",
   "execution_count": 12,
   "id": "678c0cb8",
   "metadata": {},
   "outputs": [
    {
     "name": "stdout",
     "output_type": "stream",
     "text": [
      "Hello3\n"
     ]
    }
   ],
   "source": [
    "result = \"Hello\" + str(3)\n",
    "print(result)"
   ]
  }
 ],
 "metadata": {
  "kernelspec": {
   "display_name": "venv",
   "language": "python",
   "name": "python3"
  },
  "language_info": {
   "codemirror_mode": {
    "name": "ipython",
    "version": 3
   },
   "file_extension": ".py",
   "mimetype": "text/x-python",
   "name": "python",
   "nbconvert_exporter": "python",
   "pygments_lexer": "ipython3",
   "version": "3.12.0"
  }
 },
 "nbformat": 4,
 "nbformat_minor": 5
}
