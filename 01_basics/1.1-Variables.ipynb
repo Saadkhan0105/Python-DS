{
 "cells": [
  {
   "cell_type": "markdown",
   "id": "9f11d1ef",
   "metadata": {},
   "source": [
    "## Variables:\n",
    "- Variables are fundamental elements in programming used to store data that can be referenced and manipulated in a program.\n",
    "- In python, variables are created when you assign a value to them, and they do not need explicit declaration to reserve memory space.\n",
    "- The declaration to reserve memoruy space. The declaration happens automatically when you assign a value to variable."
   ]
  },
  {
   "cell_type": "code",
   "execution_count": 1,
   "id": "d9d682a9",
   "metadata": {},
   "outputs": [
    {
     "name": "stdout",
     "output_type": "stream",
     "text": [
      "My name is Saad and I am 29 years old and my height is 5.2\n"
     ]
    }
   ],
   "source": [
    "## Declaring and assigning variables\n",
    "\n",
    "age = 29\n",
    "height = 5.2\n",
    "name = \"Saad\"\n",
    "is_student = True\n",
    "\n",
    "## Printing variables\n",
    "print(\"My name is\", name, \"and I am\", age, \"years old and my height is\", height)"
   ]
  },
  {
   "cell_type": "code",
   "execution_count": 2,
   "id": "722bdab9",
   "metadata": {},
   "outputs": [
    {
     "name": "stdout",
     "output_type": "stream",
     "text": [
      "Saad Khan\n"
     ]
    }
   ],
   "source": [
    "## Naming Convention:\n",
    "## Variable name should be descriptive and meaningful.\n",
    "## Variable should always start with a letter or an underscore '_' and contains letter, numbers and underscores.\n",
    "## Variable names are case-sensitive\n",
    "\n",
    "## valid variable names:\n",
    "first_name = \"Saad\"\n",
    "last_name = \"Khan\"\n",
    "full_name = first_name + \" \" + last_name\n",
    "print(full_name)"
   ]
  },
  {
   "cell_type": "code",
   "execution_count": 3,
   "id": "0cfdb8d2",
   "metadata": {},
   "outputs": [],
   "source": [
    "## Invalid variable names:\n",
    "# 1. 2names = \"Saad\"\n",
    "# 2. 2 names = \"Saad\"\n",
    "# 3. @names = \"Saad\""
   ]
  },
  {
   "cell_type": "code",
   "execution_count": 4,
   "id": "28877406",
   "metadata": {},
   "outputs": [],
   "source": [
    "## Case sensitivity\n",
    "name = \"Saad\"\n",
    "Name = \"Khan\""
   ]
  },
  {
   "cell_type": "code",
   "execution_count": 6,
   "id": "71e470ca",
   "metadata": {},
   "outputs": [
    {
     "name": "stdout",
     "output_type": "stream",
     "text": [
      "<class 'int'> <class 'float'> <class 'str'> <class 'bool'>\n"
     ]
    }
   ],
   "source": [
    "## Understanding variable types:\n",
    "## Python is dynamically typed, type of a variable is determined at runtime\n",
    "\n",
    "age = 29 #int\n",
    "height = 5.2 #float\n",
    "name = \"Saad\" #string\n",
    "is_student = True #boolean\n",
    "print(type(age), type(height), type(name), type(is_student))"
   ]
  },
  {
   "cell_type": "code",
   "execution_count": 7,
   "id": "9c1ccb50",
   "metadata": {},
   "outputs": [
    {
     "name": "stdout",
     "output_type": "stream",
     "text": [
      "<class 'int'>\n",
      "25\n",
      "<class 'str'>\n"
     ]
    }
   ],
   "source": [
    "age = 25\n",
    "print(type(age))\n",
    "\n",
    "# Type conversion:\n",
    "age_str = str(age)\n",
    "print(age_str)\n",
    "print(type(age_str))"
   ]
  },
  {
   "cell_type": "code",
   "execution_count": 8,
   "id": "27b7f14c",
   "metadata": {},
   "outputs": [
    {
     "name": "stdout",
     "output_type": "stream",
     "text": [
      "10 <class 'int'>\n",
      "Saad <class 'str'>\n",
      "3.14 <class 'float'>\n"
     ]
    }
   ],
   "source": [
    "## Dynamic Typing:\n",
    "\n",
    "var = 10 #int\n",
    "print(var, type(var))\n",
    "\n",
    "var = \"Saad\" #string\n",
    "print(var, type(var))\n",
    "\n",
    "var = 3.14 #float\n",
    "print(var, type(var))\n"
   ]
  },
  {
   "cell_type": "code",
   "execution_count": 11,
   "id": "0a7c5990",
   "metadata": {},
   "outputs": [
    {
     "name": "stdout",
     "output_type": "stream",
     "text": [
      "You are 25 years old\n",
      "<class 'int'>\n"
     ]
    }
   ],
   "source": [
    "## Input: \n",
    "\n",
    "age = int(input(\"What is your age:\"))\n",
    "print(\"You are\", age, \"years old\")\n",
    "print(type(age))"
   ]
  },
  {
   "cell_type": "code",
   "execution_count": 12,
   "id": "e35f2fe1",
   "metadata": {},
   "outputs": [
    {
     "name": "stdout",
     "output_type": "stream",
     "text": [
      "Sum of 56.0 and 43.0 is: 99.0\n",
      "Difference of 56.0 and 43.0 is: 13.0\n",
      "Product of 56.0 and 43.0 is: 2408.0\n",
      "Quotient of 56.0 and 43.0 is: 1.302325581395349\n"
     ]
    }
   ],
   "source": [
    "## Simple Calculator:\n",
    "\n",
    "num1 = float(input(\"Enter first number:\"))\n",
    "num2 = float(input(\"Enter second number:\"))\n",
    "\n",
    "print(\"Sum of\", num1, \"and\", num2, \"is:\", num1 + num2)\n",
    "print(\"Difference of\", num1, \"and\", num2, \"is:\", num1 - num2)\n",
    "print(\"Product of\", num1, \"and\", num2, \"is:\", num1 * num2)\n",
    "print(\"Quotient of\", num1, \"and\", num2, \"is:\", num1 / num2)"
   ]
  },
  {
   "cell_type": "code",
   "execution_count": null,
   "id": "5bd03789",
   "metadata": {},
   "outputs": [],
   "source": []
  }
 ],
 "metadata": {
  "kernelspec": {
   "display_name": "venv",
   "language": "python",
   "name": "python3"
  },
  "language_info": {
   "codemirror_mode": {
    "name": "ipython",
    "version": 3
   },
   "file_extension": ".py",
   "mimetype": "text/x-python",
   "name": "python",
   "nbconvert_exporter": "python",
   "pygments_lexer": "ipython3",
   "version": "3.12.0"
  }
 },
 "nbformat": 4,
 "nbformat_minor": 5
}
